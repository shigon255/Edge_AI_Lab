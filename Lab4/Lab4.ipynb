{
  "cells": [
    {
      "cell_type": "markdown",
      "source": [
        "# Lab4: Quantize DeiT"
      ],
      "metadata": {
        "id": "C8rFS5-s47wa"
      }
    },
    {
      "cell_type": "markdown",
      "metadata": {
        "id": "_XdmT91OIoXZ"
      },
      "source": [
        "### Setup"
      ]
    },
    {
      "cell_type": "code",
      "source": [
        "# install the newest version of torch, torchvision, and timm\n",
        "!pip3 uninstall --yes torch torchaudio torchvision torchtext torchdata timm\n",
        "!pip3 install torch torchaudio torchvision torchtext torchdata timm"
      ],
      "metadata": {
        "id": "zM6gf9u-99jp"
      },
      "execution_count": null,
      "outputs": []
    },
    {
      "cell_type": "code",
      "execution_count": null,
      "metadata": {
        "id": "4OYDr727IoXb"
      },
      "outputs": [],
      "source": [
        "import numpy as np\n",
        "import torch\n",
        "from torch import nn\n",
        "import os\n",
        "from tqdm.auto import tqdm\n",
        "\n",
        "from torchvision import datasets, transforms\n",
        "from timm.data import create_transform\n",
        "from timm.data.constants import IMAGENET_DEFAULT_MEAN, IMAGENET_DEFAULT_STD\n",
        "from torch.utils.data import DataLoader\n",
        "\n",
        "from torch.export import export, ExportedProgram\n",
        "from torchvision.models.mobilenetv2 import MobileNet_V2_Weights\n",
        "from torch._export import capture_pre_autograd_graph\n",
        "from torch.ao.quantization.quantize_pt2e import convert_pt2e, prepare_pt2e, prepare_qat_pt2e\n",
        "from torch.ao.quantization.quantizer.xnnpack_quantizer import (\n",
        "    get_symmetric_quantization_config,\n",
        "    XNNPACKQuantizer,\n",
        ")\n",
        "\n",
        "def evaluate_model(model, data_loader, device):\n",
        "    # model.eval()\n",
        "    model.to(device)\n",
        "    correct = 0\n",
        "    total = 0\n",
        "    with torch.no_grad():\n",
        "        for images, labels in tqdm(data_loader):\n",
        "            images, labels = images.to(device), labels.to(device)\n",
        "            outputs = model(images)\n",
        "            _, predicted = torch.max(outputs, 1)\n",
        "            total += labels.size(0)\n",
        "            correct += (predicted == labels).sum().item()\n",
        "\n",
        "    accuracy = 100 * correct / total\n",
        "    print(f'Accuracy of the model on the test images: {accuracy}%')\n",
        "    return accuracy\n",
        "\n",
        "def print_size_of_model(model):\n",
        "    torch.save(model.state_dict(), \"temp.p\")\n",
        "    print('Size (MB):', os.path.getsize(\"temp.p\")/1e6)\n",
        "    os.remove('temp.p')\n",
        "\n",
        "\n",
        "torch.cuda.is_available()"
      ]
    },
    {
      "cell_type": "code",
      "source": [
        "def data_loader_to_list(data_loader):\n",
        "\n",
        "    new_data_loader = []\n",
        "\n",
        "    for i, data in enumerate(data_loader):\n",
        "        if i >= 256:\n",
        "            break\n",
        "        new_data_loader.append(data)\n",
        "\n",
        "    return new_data_loader"
      ],
      "metadata": {
        "id": "M8GuVUhpfFGs"
      },
      "execution_count": null,
      "outputs": []
    },
    {
      "cell_type": "code",
      "execution_count": null,
      "metadata": {
        "id": "i1jrxEBjIoXc"
      },
      "outputs": [],
      "source": [
        "def build_dataset_CIFAR100(is_train, data_path):\n",
        "    transform = build_transform(is_train)\n",
        "    dataset = datasets.CIFAR100(data_path, train=is_train, transform=transform, download=True)\n",
        "    nb_classes = 100\n",
        "    return dataset, nb_classes\n",
        "\n",
        "def build_transform(is_train):\n",
        "    input_size = 224\n",
        "    eval_crop_ratio = 1.0\n",
        "\n",
        "    resize_im = input_size > 32\n",
        "    if is_train:\n",
        "        # this should always dispatch to transforms_imagenet_train\n",
        "        transform = create_transform(\n",
        "            input_size=input_size,\n",
        "            is_training=True,\n",
        "            color_jitter=0.3,\n",
        "            auto_augment='rand-m9-mstd0.5-inc1',\n",
        "            interpolation='bicubic',\n",
        "            re_prob=0.0,\n",
        "            re_mode='pixel',\n",
        "            re_count=1,\n",
        "        )\n",
        "        if not resize_im:\n",
        "            # replace RandomResizedCropAndInterpolation with\n",
        "            # RandomCrop\n",
        "            transform.transforms[0] = transforms.RandomCrop(\n",
        "                input_size, padding=4)\n",
        "        return transform\n",
        "\n",
        "    t = []\n",
        "    if resize_im:\n",
        "        size = int(input_size / eval_crop_ratio)\n",
        "        t.append(\n",
        "            transforms.Resize(size, interpolation=3),  # to maintain same ratio w.r.t. 224 images\n",
        "        )\n",
        "        t.append(transforms.CenterCrop(input_size))\n",
        "\n",
        "    t.append(transforms.ToTensor())\n",
        "    t.append(transforms.Normalize(IMAGENET_DEFAULT_MEAN, IMAGENET_DEFAULT_STD))\n",
        "    return transforms.Compose(t)\n",
        "\n",
        "def prepare_data(batch_size):\n",
        "    train_set, nb_classes = build_dataset_CIFAR100(is_train=True, data_path='./data')\n",
        "    test_set, _ = build_dataset_CIFAR100(is_train=False, data_path='./data')\n",
        "\n",
        "    train_loader = DataLoader(train_set, batch_size=batch_size, shuffle=True, drop_last=True)\n",
        "    test_loader = DataLoader(test_set, batch_size=batch_size, shuffle=False, drop_last=True)\n",
        "    return train_loader, test_loader, nb_classes\n",
        "\n",
        "def train_one_epoch(model, criterion, optimizer, data_loader, device):\n",
        "\n",
        "    cnt = 0\n",
        "\n",
        "    for image, target in tqdm(data_loader):\n",
        "        cnt += 1\n",
        "        image, target = image.to(device), target.to(device)\n",
        "        output = model(image)\n",
        "        loss = criterion(output, target)\n",
        "        optimizer.zero_grad()\n",
        "        loss.backward()\n",
        "        optimizer.step()\n",
        "\n",
        "    return"
      ]
    },
    {
      "cell_type": "markdown",
      "metadata": {
        "id": "GkZ8DKOfIoXd"
      },
      "source": [
        "## Part1: Simple Quantization Pipeline (0%)\n",
        "\n",
        "Below is a naive pipeline of quantizing DeiT-S. You may need to modify the pipeline or build your own later on."
      ]
    },
    {
      "cell_type": "markdown",
      "metadata": {
        "id": "Gbo8e-DgIoXd"
      },
      "source": [
        "[**use_reference_representation=False** in **convert_pt2e()** represents fake quant (matmul using fp32).](https://pytorch.org/tutorials/prototype/pt2e_quant_ptq_static.html#convert-the-calibrated-model-to-a-quantized-model)\n",
        "\n",
        "However when the variable is set to True, the execution speed becomes extremely slow.\n",
        "\n",
        "In this lab, it is just fine to set **use_reference_representation=False**."
      ]
    },
    {
      "cell_type": "code",
      "execution_count": null,
      "metadata": {
        "id": "9CfbAo1PIoXe"
      },
      "outputs": [],
      "source": [
        "def quantize_ptq_model(model: nn.Module, data_loader, per_channel=False) -> None:\n",
        "    _dummy_input_data = (next(iter(data_loader))[0],)\n",
        "    model.eval()\n",
        "    model = capture_pre_autograd_graph(model, _dummy_input_data)\n",
        "\n",
        "    quantizer = XNNPACKQuantizer()\n",
        "    quantization_config = get_symmetric_quantization_config(is_per_channel=per_channel, is_qat=False)\n",
        "    quantizer.set_global(quantization_config)\n",
        "    # prepare_pt2e folds BatchNorm operators into preceding Conv2d operators, and inserts observers in appropriate places in the model.\n",
        "    model = prepare_pt2e(model, quantizer)\n",
        "\n",
        "    # model(*_dummy_input_data)\n",
        "    #get 128 input data for calibration\n",
        "    for i, (image, _) in enumerate(data_loader):\n",
        "        if i >= 128:\n",
        "            break\n",
        "        model(image)\n",
        "\n",
        "    model = convert_pt2e(model, use_reference_representation=False)\n",
        "\n",
        "    return model"
      ]
    },
    {
      "cell_type": "code",
      "execution_count": null,
      "metadata": {
        "id": "I_13WgBMIoXe"
      },
      "outputs": [],
      "source": [
        "batch_size = 1\n",
        "model = torch.load('0.9099_deit3_small_patch16_224.pth', map_location='cpu')\n",
        "train_loader, test_loader, nb_classes = prepare_data(batch_size)\n",
        "\n",
        "simple_test_loader = data_loader_to_list(test_loader)\n",
        "\n",
        "# evaluate before quantization\n",
        "print('Before quantization:')\n",
        "device = torch.device(\"cuda:0\" if torch.cuda.is_available() else \"cpu\")\n",
        "print_size_of_model(model)\n",
        "# evaluate_model(model, test_loader, device) # acc: 90.99%\n",
        "evaluate_model(model, simple_test_loader, device) # for fast testing purpose, this is not the real accuracy\n",
        "\n",
        "# quantize model\n",
        "print('Quantizing model...')\n",
        "model.cpu()\n",
        "quantized_model = quantize_ptq_model(model, train_loader, per_channel=False)\n",
        "torch.ao.quantization.move_exported_model_to_eval(quantized_model)\n",
        "\n",
        "# after quantization\n",
        "print('After quantization:')\n",
        "print_size_of_model(quantized_model)\n",
        "# evaluate_model(quantized_model, test_loader, device) # acc: 82.51%\n",
        "evaluate_model(quantized_model, simple_test_loader, device) # for fast testing purpose, this is not the real accuracy"
      ]
    },
    {
      "cell_type": "markdown",
      "source": [
        "#### To export and save quantized model"
      ],
      "metadata": {
        "id": "LyRVvB6Kkuj3"
      }
    },
    {
      "cell_type": "code",
      "execution_count": null,
      "metadata": {
        "id": "38F0Pi98IoXe"
      },
      "outputs": [],
      "source": [
        "quantized_model_path = \"deits_quantized.pth\"\n",
        "quantized_model.cpu()\n",
        "\n",
        "cpu_example_inputs = (next(iter(train_loader))[0], )\n",
        "quantized_ep = torch.export.export(quantized_model, cpu_example_inputs)\n",
        "torch.export.save(quantized_ep, quantized_model_path)"
      ]
    },
    {
      "cell_type": "markdown",
      "source": [
        "#### To load back the exported quantized model"
      ],
      "metadata": {
        "id": "cNF8HEzFk1BT"
      }
    },
    {
      "cell_type": "code",
      "source": [
        "loaded_quantized_ep = torch.export.load(quantized_model_path)\n",
        "loaded_quantized_model = loaded_quantized_ep.module()\n",
        "# acc = evaluate_model(loaded_quantized_model, test_loader, device)\n",
        "acc = evaluate_model(quantized_model, simple_test_loader, device) # for fast testing purpose, this is not the real accuracy"
      ],
      "metadata": {
        "id": "PGqcgnY3kr7I"
      },
      "execution_count": null,
      "outputs": []
    },
    {
      "cell_type": "markdown",
      "source": [
        "# Below are some tools that may be useful in this lab:"
      ],
      "metadata": {
        "id": "oV-fiMUcoO1I"
      }
    },
    {
      "cell_type": "markdown",
      "metadata": {
        "id": "Ou1NYqlNIoXf"
      },
      "source": [
        "## Profiling Models\n",
        "\n",
        "The code below profiles your model, and generates a trace file for you to find out what is going on in your model throughout the execution.\n",
        "\n",
        "The generated trace file will be named *(test_trace_*.json)*, in the same directory as the notebook. To visualize, go to page [chrome://tracing](chrome://tracing) in either Chrome or Edge browser, then upload the trace file."
      ]
    },
    {
      "cell_type": "code",
      "execution_count": null,
      "metadata": {
        "id": "ha79mAETIoXf"
      },
      "outputs": [],
      "source": [
        "# profile model\n",
        "from torch.profiler import profile, record_function, ProfilerActivity\n",
        "\n",
        "# ## Default way to use profiler\n",
        "# with profile(activities=[ProfilerActivity.CPU, ProfilerActivity.CUDA]) as prof:\n",
        "#     for _ in range(10):\n",
        "#         a = torch.square(torch.randn(10000, 10000).cuda())\n",
        "\n",
        "# prof.export_chrome_trace(\"trace.json\")\n",
        "\n",
        "def torch_profile(model, input_data, device):\n",
        "  ## With warmup and skip\n",
        "  # https://pytorch.org/docs/stable/profiler.html\n",
        "\n",
        "  # Non-default profiler schedule allows user to turn profiler on and off\n",
        "  # on different iterations of the training loop;\n",
        "  # trace_handler is called every time a new trace becomes available\n",
        "  def trace_handler(prof):\n",
        "    print(prof.key_averages().table(sort_by=\"self_cuda_time_total\", row_limit=-1))\n",
        "    prof.export_chrome_trace(\"./test_trace_\" + str(prof.step_num) + \".json\")\n",
        "\n",
        "  with torch.profiler.profile(\n",
        "    activities=[\n",
        "      torch.profiler.ProfilerActivity.CPU,\n",
        "      torch.profiler.ProfilerActivity.CUDA,\n",
        "    ],\n",
        "\n",
        "    # In this example with wait=1, warmup=1, active=2, repeat=1,\n",
        "    # profiler will skip the first step/iteration,\n",
        "    # start warming up on the second, record\n",
        "    # the third and the forth iterations,\n",
        "    # after which the trace will become available\n",
        "    # and on_trace_ready (when set) is called;\n",
        "    # the cycle repeats starting with the next step\n",
        "    schedule=torch.profiler.schedule(wait=1, warmup=1, active=2, repeat=1),\n",
        "    on_trace_ready=trace_handler\n",
        "    # on_trace_ready=torch.profiler.tensorboard_trace_handler('./log')\n",
        "    # used when outputting for tensorboard\n",
        "    ) as p:\n",
        "      for data in input_data:\n",
        "        model(data.to(device))\n",
        "        # send a signal to the profiler that the next iteration has started\n",
        "        p.step()"
      ]
    },
    {
      "cell_type": "code",
      "execution_count": null,
      "metadata": {
        "id": "VXTFSexrIoXf"
      },
      "outputs": [],
      "source": [
        "dummy_input_data = [next(iter(test_loader))[0] for _ in range(3)]\n",
        "device = torch.device(\"cpu\")\n",
        "\n",
        "# profile quantized model\n",
        "torch_profile(loaded_quantized_model, dummy_input_data, device)"
      ]
    },
    {
      "cell_type": "markdown",
      "source": [
        "## To obtain specific model layers"
      ],
      "metadata": {
        "id": "V_xk1sSXoqsJ"
      }
    },
    {
      "cell_type": "code",
      "source": [
        "def match_string(string, match_list, match_prefix=False, match_suffix=False):\n",
        "    if match_prefix:\n",
        "        return any(string.startswith(s) for s in match_list)\n",
        "    elif match_suffix:\n",
        "        return any(string.endswith(s) for s in match_list)\n",
        "    else:\n",
        "        return any(s in string for s in match_list)\n",
        "\n",
        "def get_model_layers(model, match_names=None, match_types=None, prefix=''):\n",
        "    matching_layers = []\n",
        "    for name, module in model.named_modules():\n",
        "        if match_names is None or match_string(name, match_names):\n",
        "            if match_types is None or match_string(type(module).__name__, match_types):\n",
        "                matching_layers.append((f'{prefix}{name}', module))\n",
        "    return matching_layers\n",
        "\n",
        "layer_names = [f'blocks.0.attn.qkv', f'blocks.0.mlp.fc1', f'blocks.0.mlp.fc2']\n",
        "block0_layers = get_model_layers(model, match_names=layer_names, match_types=['Linear'])\n",
        "\n",
        "print(block0_layers)"
      ],
      "metadata": {
        "id": "E4BgPWyupMZ1"
      },
      "execution_count": null,
      "outputs": []
    },
    {
      "cell_type": "markdown",
      "source": [
        "## To capture the output of each layer\n"
      ],
      "metadata": {
        "id": "NO1-XuLJBkL2"
      }
    },
    {
      "cell_type": "code",
      "source": [
        "class HookHandler:\n",
        "    def __init__(self):\n",
        "        self.handlers = []\n",
        "\n",
        "    def __del__(self):\n",
        "        self.remove_hooks()\n",
        "\n",
        "    def _generate_hook(self, apply_func, key, layer_data_dict: dict):\n",
        "        def hook_fn(model, input, output):\n",
        "            nonlocal layer_data_dict\n",
        "            layer_data_dict[key] = apply_func(\n",
        "                output, layer_data_dict.get(key, None))\n",
        "        return hook_fn\n",
        "\n",
        "    def _bind_hooks(self, apply_layers, apply_func, layer_data_dict: dict):\n",
        "        for name, module in apply_layers:\n",
        "            hook_fn = self._generate_hook(apply_func, name, layer_data_dict)\n",
        "            self.handlers.append(module.register_forward_hook(hook_fn))\n",
        "\n",
        "    def create_hooks(self, apply_layers, apply_func, layer_data_dict: dict):\n",
        "        self._bind_hooks(apply_layers, apply_func, layer_data_dict)\n",
        "\n",
        "    def remove_hooks(self):\n",
        "        for handle in self.handlers:\n",
        "            handle.remove()\n",
        "        self.handlers = []\n",
        "\n",
        "def absmax(data, axis=None):\n",
        "    p_data = data.max(axis=axis)\n",
        "    n_data = data.min(axis=axis)\n",
        "    return np.where(abs(p_data) > abs(n_data), p_data, n_data)\n",
        "\n",
        "def get_flat_act_func(new_val: torch.Tensor, _):\n",
        "    return new_val.cpu().detach().numpy().flatten()\n",
        "\n",
        "\n",
        "def get_act_func(new_val: torch.Tensor, _):\n",
        "    return new_val.cpu().detach().numpy()\n",
        "\n",
        "\n",
        "def get_avg_act_func(new_val: torch.Tensor, existing_val):\n",
        "    if existing_val is None:\n",
        "        avg = new_val.cpu().detach().numpy().sum(axis=0) / total_cnt\n",
        "        total_cnt = new_val.shape[0]\n",
        "\n",
        "    else:\n",
        "        total_cnt, avg = existing_val.get(\"total_cnt\"), existing_val.get(\"value\")\n",
        "        avg = (avg * total_cnt + new_val.cpu().detach().numpy().sum(axis=0)) / (total_cnt + new_val.shape[0])\n",
        "        total_cnt += new_val.shape[0]\n",
        "\n",
        "    return {\"total_cnt\": total_cnt, \"value\": avg}\n",
        "\n",
        "def get_absmax_act_func(new_val: torch.Tensor, existing_val):\n",
        "    new_absmax = absmax(new_val.cpu().detach().numpy(), axis=0)\n",
        "    if existing_val is None:\n",
        "        value = new_absmax\n",
        "    else:\n",
        "        value = absmax(np.stack([existing_val, new_absmax], axis=0), axis=0)\n",
        "    return value"
      ],
      "metadata": {
        "id": "j8xEIdQvBsnQ"
      },
      "execution_count": null,
      "outputs": []
    },
    {
      "cell_type": "code",
      "source": [
        "# initialize HookHandler and the dictionary to store the outputs\n",
        "handler = HookHandler()\n",
        "layer_outputs = {}\n",
        "\n",
        "# get the layers you want to record\n",
        "layer_names = [f'blocks.0.attn.qkv', f'blocks.0.mlp.fc1', f'blocks.0.mlp.fc2']\n",
        "block0_layers = get_model_layers(model, match_names=layer_names, match_types=['Linear'])\n",
        "\n",
        "# create hooks for the layers (<layers>, <hook function>, <dictionary to store the outputs>)\n",
        "handler.create_hooks(block0_layers, get_act_func, layer_outputs)\n",
        "\n",
        "# calibrate the model and record the outputs\n",
        "with torch.autocast(device_type=\"cuda\"):\n",
        "    for i, (image, _) in enumerate(train_loader):\n",
        "        if i >= 128: break\n",
        "        model(image)\n",
        "\n",
        "# remove the hooks\n",
        "handler.remove_hooks()\n",
        "\n",
        "print(layer_outputs)"
      ],
      "metadata": {
        "id": "sGw7XZSVB5Xn"
      },
      "execution_count": null,
      "outputs": []
    },
    {
      "cell_type": "markdown",
      "source": [
        "## To ignore specific layers for quantization:\n",
        "([xnnpack source code](https://github.com/pytorch/pytorch/blob/main/torch/ao/quantization/quantizer/xnnpack_quantizer.py\\), also you can try messing around with the Observer classes)"
      ],
      "metadata": {
        "id": "bztBdOxJRKTD"
      }
    },
    {
      "cell_type": "code",
      "source": [
        "# Replace functions XNNPackQuantizer uses for annotation.\n",
        "\n",
        "def get_module_names(name):\n",
        "    names = name.split(\".\")\n",
        "    names.reverse()\n",
        "    return [\".\".join(names[:i+1]) for i in range(len(names))]\n",
        "\n",
        "def parse_string(name):\n",
        "    if name.startswith(\"L\"): return name[10:]\n",
        "    split_getattr = name.split(\")\")\n",
        "    ig_left = split_getattr[0].split(\"L['self'].\")[-1].split(\",\")[0]\n",
        "    ig_right = split_getattr[0].split(\", '\")[-1][:-1]\n",
        "    return ig_left + \".\" + str(ig_right) + split_getattr[1]\n",
        "\n",
        "def is_name_in_ignore_list(name, IGNORE_LIST):\n",
        "    return name in IGNORE_LIST\n",
        "\n",
        "def name_not_in_ignore_list(n, IGNORE_LIST) -> bool:\n",
        "    nn_module_stack = n.meta.get(\"nn_module_stack\", {})\n",
        "    names = [n for n, klass in nn_module_stack.values()]\n",
        "    if len(names) == 0:\n",
        "        return True\n",
        "\n",
        "    names = get_module_names(parse_string(names[-1]))\n",
        "    set1 = set(names)\n",
        "    set2 = set(IGNORE_LIST)\n",
        "    # if len(set1.intersection(set2)) == 0:\n",
        "    #     print(\"DEBUG: \", names)\n",
        "    return len(set1.intersection(set2)) == 0\n",
        "\n",
        "def get_module_name_filter(module_name: str, IGNORE_LIST):\n",
        "    def module_name_filter(n) -> bool:\n",
        "        nn_module_stack = n.meta.get(\"nn_module_stack\", {})\n",
        "        names = [n for n, klass in nn_module_stack.values()]\n",
        "        if len(names) == 0:\n",
        "            return False\n",
        "\n",
        "        names = get_module_names(parse_string(names[-1]))\n",
        "        return (module_name in names) and name_not_in_ignore_list(n, IGNORE_LIST)\n",
        "    return module_name_filter\n",
        "\n",
        "\n",
        "def get_module_type_filter(tp, IGNORE_LIST):\n",
        "    def module_type_filter(n) -> bool:\n",
        "        nn_module_stack = n.meta.get(\"nn_module_stack\", {})\n",
        "        types = [t for _, t in nn_module_stack.values()]\n",
        "        return (tp in types) and name_not_in_ignore_list(n, IGNORE_LIST)\n",
        "\n",
        "    return module_type_filter\n",
        "\n",
        "\n",
        "def get_not_module_type_or_name_filter(\n",
        "    tp_list, module_name_list, IGNORE_LIST\n",
        "):\n",
        "    module_type_filters = [get_module_type_filter(tp) for tp in tp_list]\n",
        "    module_name_list_filters = [get_module_name_filter(m) for m in module_name_list]\n",
        "\n",
        "    def not_module_type_or_name_filter(n) -> bool:\n",
        "        return not any(f(n) for f in module_type_filters + module_name_list_filters) and name_not_in_ignore_list(n, IGNORE_LIST)\n",
        "\n",
        "    return not_module_type_or_name_filter\n",
        "\n",
        "class PartialXNNPACKQuantizer(XNNPACKQuantizer): # skips quantizing layers inside the ignore_list\n",
        "    def __init__(self, ignore_list):\n",
        "        super().__init__()\n",
        "        self.ignore_list = ignore_list\n",
        "\n",
        "    def _annotate_for_static_quantization_config(\n",
        "        self, model: torch.fx.GraphModule\n",
        "    ) -> torch.fx.GraphModule:\n",
        "        print(\"annotating for static quantization\")\n",
        "        module_name_list = list(self.module_name_config.keys())\n",
        "        for module_name, config in self.module_name_config.items():\n",
        "            self._annotate_all_static_patterns(\n",
        "                model, config, get_module_name_filter(module_name, self.ignore_list)\n",
        "            )\n",
        "\n",
        "        tp_list = list(self.module_type_config.keys())\n",
        "        for module_type, config in self.module_type_config.items():\n",
        "            self._annotate_all_static_patterns(\n",
        "                model, config, get_module_type_filter(module_type, self.ignore_list)\n",
        "            )\n",
        "\n",
        "        self._annotate_all_static_patterns(\n",
        "            model,\n",
        "            self.global_config,\n",
        "            get_not_module_type_or_name_filter(tp_list, module_name_list, self.ignore_list),\n",
        "        )\n",
        "        return model\n",
        "\n",
        "    def _annotate_for_dynamic_quantization_config(\n",
        "        self, model: torch.fx.GraphModule\n",
        "    ) -> torch.fx.GraphModule:\n",
        "        print(\"annotating for dynamic quantization\")\n",
        "        module_name_list = list(self.module_name_config.keys())\n",
        "        for module_name, config in self.module_name_config.items():\n",
        "            self._annotate_all_dynamic_patterns(\n",
        "                model, config, get_module_name_filter(module_name, self.ignore_list)\n",
        "            )\n",
        "\n",
        "        tp_list = list(self.module_type_config.keys())\n",
        "        for module_type, config in self.module_type_config.items():\n",
        "            self._annotate_all_dynamic_patterns(\n",
        "                model, config, get_module_type_filter(module_type, self.ignore_list)\n",
        "            )\n",
        "\n",
        "        self._annotate_all_dynamic_patterns(\n",
        "            model,\n",
        "            self.global_config,\n",
        "            get_not_module_type_or_name_filter(tp_list, module_name_list, self.ignore_list),\n",
        "        )\n",
        "        return model\n",
        "\n",
        "# quantizer = XNNPACKQuantizer()\n",
        "quantizer = PartialXNNPACKQuantizer(ignore_list=[\"head\"]) # replace XNNPACKQuantizer()"
      ],
      "metadata": {
        "id": "kdAyjLwXQlya"
      },
      "execution_count": null,
      "outputs": []
    }
  ],
  "metadata": {
    "kernelspec": {
      "display_name": "Python 3",
      "name": "python3"
    },
    "language_info": {
      "codemirror_mode": {
        "name": "ipython",
        "version": 3
      },
      "file_extension": ".py",
      "mimetype": "text/x-python",
      "name": "python",
      "nbconvert_exporter": "python",
      "pygments_lexer": "ipython3",
      "version": "3.11.8"
    },
    "colab": {
      "provenance": [],
      "collapsed_sections": [
        "Ou1NYqlNIoXf",
        "V_xk1sSXoqsJ",
        "NO1-XuLJBkL2",
        "bztBdOxJRKTD"
      ],
      "gpuType": "T4"
    },
    "accelerator": "GPU"
  },
  "nbformat": 4,
  "nbformat_minor": 0
}