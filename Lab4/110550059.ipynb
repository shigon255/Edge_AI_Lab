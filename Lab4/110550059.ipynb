{
  "cells": [
    {
      "cell_type": "markdown",
      "metadata": {
        "id": "C8rFS5-s47wa"
      },
      "source": [
        "# Lab4: Quantize DeiT"
      ]
    },
    {
      "cell_type": "markdown",
      "metadata": {
        "id": "_XdmT91OIoXZ"
      },
      "source": [
        "### Setup"
      ]
    },
    {
      "cell_type": "code",
      "execution_count": null,
      "metadata": {
        "id": "zM6gf9u-99jp"
      },
      "outputs": [],
      "source": [
        "# install the newest version of torch, torchvision, and timm\n",
        "!pip3 uninstall --yes torch torchaudio torchvision torchtext torchdata timm\n",
        "!pip3 install torch torchaudio torchvision torchtext torchdata timm"
      ]
    },
    {
      "cell_type": "code",
      "execution_count": 5,
      "metadata": {
        "id": "4OYDr727IoXb"
      },
      "outputs": [
        {
          "data": {
            "text/plain": [
              "True"
            ]
          },
          "execution_count": 5,
          "metadata": {},
          "output_type": "execute_result"
        }
      ],
      "source": [
        "import numpy as np\n",
        "import torch\n",
        "from torch import nn\n",
        "import os\n",
        "from tqdm.auto import tqdm\n",
        "import math\n",
        "import time\n",
        "\n",
        "from torchvision import datasets, transforms\n",
        "from timm.data import create_transform\n",
        "from timm.data.constants import IMAGENET_DEFAULT_MEAN, IMAGENET_DEFAULT_STD\n",
        "from torch.utils.data import DataLoader\n",
        "\n",
        "from torch.export import export, ExportedProgram\n",
        "from torchvision.models.mobilenetv2 import MobileNet_V2_Weights\n",
        "from torch._export import capture_pre_autograd_graph\n",
        "from torch.ao.quantization.quantize_pt2e import convert_pt2e, prepare_pt2e, prepare_qat_pt2e\n",
        "from torch.ao.quantization.quantizer.xnnpack_quantizer import (\n",
        "    get_symmetric_quantization_config,\n",
        "    XNNPACKQuantizer,\n",
        ")\n",
        "\n",
        "torch.cuda.is_available()\n",
        "def evaluate_model(model, data_loader, device):\n",
        "    # model.eval()\n",
        "    model.to(device)\n",
        "    correct = 0\n",
        "    total = 0\n",
        "    with torch.no_grad():\n",
        "        for images, labels in tqdm(data_loader):\n",
        "            images, labels = images.to(device), labels.to(device)\n",
        "            outputs = model(images)\n",
        "            _, predicted = torch.max(outputs, 1)\n",
        "            total += labels.size(0)\n",
        "            correct += (predicted == labels).sum().item()\n",
        "\n",
        "    accuracy = 100 * correct / total\n",
        "    print(f'Accuracy of the model on the test images: {accuracy}%')\n",
        "    return accuracy\n",
        "\n",
        "def print_size_of_model(model):\n",
        "    torch.save(model.state_dict(), \"temp.p\")\n",
        "    print('Size (MB):', os.path.getsize(\"temp.p\")/1e6)\n",
        "    size = os.path.getsize(\"temp.p\")/1e6\n",
        "    os.remove('temp.p')\n",
        "    return size\n",
        "\n",
        "\n",
        "torch.cuda.is_available()"
      ]
    },
    {
      "cell_type": "code",
      "execution_count": 2,
      "metadata": {
        "id": "i1jrxEBjIoXc"
      },
      "outputs": [],
      "source": [
        "def data_loader_to_list(data_loader, length=128):\n",
        "    new_data_loader = []\n",
        "    if length < 0:\n",
        "        return list(data_loader)\n",
        "    else:\n",
        "        for i, data in enumerate(data_loader):\n",
        "            if i >= length:\n",
        "                break\n",
        "            new_data_loader.append(data)\n",
        "\n",
        "    return new_data_loader\n",
        "\n",
        "def build_dataset_CIFAR100(is_train, data_path):\n",
        "    transform = build_transform(is_train)\n",
        "    dataset = datasets.CIFAR100(data_path, train=is_train, transform=transform, download=True)\n",
        "    nb_classes = 100\n",
        "    return dataset, nb_classes\n",
        "\n",
        "def build_transform(is_train):\n",
        "    input_size = 224\n",
        "    eval_crop_ratio = 1.0\n",
        "\n",
        "    resize_im = input_size > 32\n",
        "    if is_train:\n",
        "        # this should always dispatch to transforms_imagenet_train\n",
        "        transform = create_transform(\n",
        "            input_size=input_size,\n",
        "            is_training=True,\n",
        "            color_jitter=0.3,\n",
        "            auto_augment='rand-m9-mstd0.5-inc1',\n",
        "            interpolation='bicubic',\n",
        "            re_prob=0.0,\n",
        "            re_mode='pixel',\n",
        "            re_count=1,\n",
        "        )\n",
        "        if not resize_im:\n",
        "            # replace RandomResizedCropAndInterpolation with\n",
        "            # RandomCrop\n",
        "            transform.transforms[0] = transforms.RandomCrop(\n",
        "                input_size, padding=4)\n",
        "        return transform\n",
        "\n",
        "    t = []\n",
        "    if resize_im:\n",
        "        size = int(input_size / eval_crop_ratio)\n",
        "        t.append(\n",
        "            transforms.Resize(size, interpolation=3),  # to maintain same ratio w.r.t. 224 images\n",
        "        )\n",
        "        t.append(transforms.CenterCrop(input_size))\n",
        "\n",
        "    t.append(transforms.ToTensor())\n",
        "    t.append(transforms.Normalize(IMAGENET_DEFAULT_MEAN, IMAGENET_DEFAULT_STD))\n",
        "    return transforms.Compose(t)\n",
        "\n",
        "def prepare_data(batch_size):\n",
        "    train_set, nb_classes = build_dataset_CIFAR100(is_train=True, data_path='./data')\n",
        "    test_set, _ = build_dataset_CIFAR100(is_train=False, data_path='./data')\n",
        "\n",
        "    train_loader = DataLoader(train_set, batch_size=batch_size, shuffle=True, drop_last=True)\n",
        "    test_loader = DataLoader(test_set, batch_size=batch_size, shuffle=False, drop_last=True)\n",
        "    return train_loader, test_loader, nb_classes\n"
      ]
    },
    {
      "cell_type": "markdown",
      "metadata": {},
      "source": [
        "### Training and calibration"
      ]
    },
    {
      "cell_type": "code",
      "execution_count": 3,
      "metadata": {},
      "outputs": [],
      "source": [
        "def calibrate(model: nn.Module, data_loader) -> None:\n",
        "    calibration_data = data_loader_to_list(data_loader, math.ceil(128/data_loader.batch_size)) # calibrate 128 images\n",
        "    for image, _ in calibration_data:\n",
        "        model(image)\n",
        "    return\n",
        "\n",
        "def train_one_epoch(model, criterion, optimizer, data_loader, device):\n",
        "    cnt = 0\n",
        "    for image, target in tqdm(data_loader):\n",
        "        cnt += 1\n",
        "        image, target = image.to(device), target.to(device)\n",
        "        output = model(image)\n",
        "        loss = criterion(output, target)\n",
        "        optimizer.zero_grad()\n",
        "        loss.backward()\n",
        "        optimizer.step()"
      ]
    },
    {
      "cell_type": "markdown",
      "metadata": {},
      "source": [
        "### Evaluation"
      ]
    },
    {
      "cell_type": "code",
      "execution_count": 4,
      "metadata": {},
      "outputs": [],
      "source": [
        "def get_size_of_model(model):\n",
        "    torch.save(model.state_dict(), \"temp.p\")\n",
        "    model_size = os.path.getsize(\"temp.p\")/1e6\n",
        "    os.remove('temp.p')\n",
        "    return model_size\n",
        "\n",
        "def evaluate_model(model, data_loader, device):\n",
        "    model.to(device)\n",
        "    correct = 0\n",
        "    total = 0\n",
        "    with torch.no_grad():\n",
        "        for images, labels in tqdm(data_loader):\n",
        "            images, labels = images.to(device), labels.to(device)\n",
        "            outputs = model(images)\n",
        "            _, predicted = torch.max(outputs, 1)\n",
        "            total += labels.size(0)\n",
        "            correct += (predicted == labels).sum().item()\n",
        "\n",
        "    accuracy = 100 * correct / total\n",
        "    print(f'Accuracy of the model on the test images: {accuracy}%')\n",
        "    return accuracy\n",
        "\n",
        "def getMiniTestDataset():\n",
        "    # Create a test_loader with batch size = 1\n",
        "    _, test_loader, _ = prepare_data(batch_size=1)\n",
        "\n",
        "    # Prepare to collect 10 images per class\n",
        "    class_images = [[] for _ in range(100)]\n",
        "\n",
        "    # Iterate through the data\n",
        "    for (image, label) in test_loader:\n",
        "        if len(class_images[label]) < 5:\n",
        "            class_images[label].append((image, label))\n",
        "        if all(len(images) == 5 for images in class_images):\n",
        "            break  # Stop once we have 10 images per class\n",
        "\n",
        "    # flatten class_images\n",
        "    mini_test_dataset = []\n",
        "    for images in class_images:\n",
        "        mini_test_dataset.extend(images)\n",
        "    return mini_test_dataset\n",
        "\n",
        "# TA Uses the following code to evaluate your score\n",
        "def lab4_cifar100_evaluation(quantized_model_path='deits_quantized.pth'):\n",
        "    # Prepare data\n",
        "    mini_test_dataset = getMiniTestDataset()\n",
        "\n",
        "    # Load quantized model\n",
        "    quantized_ep = torch.export.load(quantized_model_path)\n",
        "    quantized_model = quantized_ep.module()\n",
        "\n",
        "    # Evaluate model\n",
        "    start_time = time.time()\n",
        "    acc = evaluate_model(quantized_model, mini_test_dataset, device=\"cpu\")\n",
        "    exec_time = time.time() - start_time\n",
        "    model_size = get_size_of_model(quantized_model)\n",
        "\n",
        "    print(f\"Model Size: {model_size:.2f} MB\")\n",
        "    print(f\"Accuracy: {acc:.2f}%\")\n",
        "    print(f\"Execution Time: {exec_time:.2f} s\")\n",
        "\n",
        "    score = 0\n",
        "    if model_size <= 30: score += 10\n",
        "    if model_size <= 27: score += 2 * math.floor(27-model_size)\n",
        "    if acc >= 86:\n",
        "      score += 10 + 2 * math.floor(acc-86)\n",
        "    print(f'Model Score: {score:.2f}')\n",
        "    return score"
      ]
    },
    {
      "cell_type": "markdown",
      "metadata": {
        "id": "GkZ8DKOfIoXd"
      },
      "source": [
        "## Part1: Simple Quantization Pipeline (0%)\n",
        "\n",
        "Below is a naive pipeline of quantizing DeiT-S. You may need to modify the pipeline or build your own later on."
      ]
    },
    {
      "cell_type": "markdown",
      "metadata": {
        "id": "Gbo8e-DgIoXd"
      },
      "source": [
        "[**use_reference_representation=False** in **convert_pt2e()** represents fake quant (matmul using fp32).](https://pytorch.org/tutorials/prototype/pt2e_quant_ptq_static.html#convert-the-calibrated-model-to-a-quantized-model)\n",
        "\n",
        "However when the variable is set to True, the execution speed becomes extremely slow.\n",
        "\n",
        "In this lab, it is just fine to set **use_reference_representation=False**."
      ]
    },
    {
      "cell_type": "code",
      "execution_count": 6,
      "metadata": {
        "id": "9CfbAo1PIoXe"
      },
      "outputs": [],
      "source": [
        "from torch.export import Dim\n",
        "from torch._export import capture_pre_autograd_graph\n",
        "\n",
        "def quantize_ptq_model(model: nn.Module, data_loader, per_channel=False) -> None:\n",
        "    # captuer model graph\n",
        "    _dummy_input_data = (next(iter(data_loader))[0],)\n",
        "    model.eval()\n",
        "    dynamic_shapes = {\"x\": {0: Dim(\"batch\")}} # to allow diffent batch size on training/inference\n",
        "    model = capture_pre_autograd_graph(model, _dummy_input_data, dynamic_shapes=dynamic_shapes)\n",
        "\n",
        "    # Init quantizer\n",
        "    quantizer = XNNPACKQuantizer()\n",
        "    quantization_config = get_symmetric_quantization_config(is_per_channel=per_channel, is_qat=False)\n",
        "    quantizer.set_global(quantization_config)\n",
        "\n",
        "    # Prepare model for quantization\n",
        "    model = prepare_pt2e(model, quantizer)\n",
        "\n",
        "    # Calibration\n",
        "    calibrate(model, data_loader)\n",
        "\n",
        "    # Convert model to quantized model\n",
        "    model = convert_pt2e(model, use_reference_representation=False)\n",
        "    return model"
      ]
    },
    {
      "cell_type": "code",
      "execution_count": 11,
      "metadata": {},
      "outputs": [
        {
          "name": "stdout",
          "output_type": "stream",
          "text": [
            "Files already downloaded and verified\n",
            "Files already downloaded and verified\n",
            "Files already downloaded and verified\n",
            "Files already downloaded and verified\n"
          ]
        }
      ],
      "source": [
        "# Load the model\n",
        "batch_size = 32 # Use batch size > 1 for faster PTQ and QAT.\n",
        "model = torch.load('0.9099_deit3_small_patch16_224.pth', map_location='cpu')\n",
        "train_loader, test_loader, _ = prepare_data(batch_size)\n",
        "\n",
        "# We use only a porpotion of test dataset for evaluation, with batch size = 1 for inference.\n",
        "mini_test_dataset = getMiniTestDataset()"
      ]
    },
    {
      "cell_type": "code",
      "execution_count": 9,
      "metadata": {
        "id": "I_13WgBMIoXe"
      },
      "outputs": [
        {
          "name": "stderr",
          "output_type": "stream",
          "text": [
            "100%|██████████| 500/500 [00:07<00:00, 63.22it/s] \n"
          ]
        },
        {
          "name": "stdout",
          "output_type": "stream",
          "text": [
            "Accuracy of the model on the test images: 93.6%\n",
            "Size (MB) before quantization: 86.905654\n",
            "Accuracy of the model on the test images: 93.6%\n",
            "Quantizing model...\n",
            "Exporting model...\n",
            "Evaluating model...\n",
            "Files already downloaded and verified\n",
            "Files already downloaded and verified\n"
          ]
        },
        {
          "name": "stderr",
          "output_type": "stream",
          "text": [
            "100%|██████████| 500/500 [00:26<00:00, 19.19it/s]"
          ]
        },
        {
          "name": "stdout",
          "output_type": "stream",
          "text": [
            "Accuracy of the model on the test images: 84.2%\n",
            "Model Size: 21.94 MB\n",
            "Accuracy: 84.20%\n",
            "Execution Time: 26.06 s\n",
            "Model Score: 20.00\n"
          ]
        },
        {
          "name": "stderr",
          "output_type": "stream",
          "text": [
            "\n"
          ]
        },
        {
          "data": {
            "text/plain": [
              "20"
            ]
          },
          "execution_count": 9,
          "metadata": {},
          "output_type": "execute_result"
        }
      ],
      "source": [
        "# evaluate before quantization\n",
        "device = torch.device(\"cuda:0\" if torch.cuda.is_available() else \"cpu\")\n",
        "acc = evaluate_model(model, mini_test_dataset, device)\n",
        "print('Size (MB) before quantization:', get_size_of_model(model))\n",
        "print(f'Accuracy of the model on the test images: {acc}%') # 92.8%\n",
        "\n",
        "# quantize model\n",
        "print('Quantizing model...')\n",
        "model.cpu()\n",
        "quantized_model = quantize_ptq_model(model, train_loader, per_channel=False)\n",
        "torch.ao.quantization.move_exported_model_to_eval(quantized_model)\n",
        "\n",
        "print('Exporting model...')\n",
        "quantized_model_path = \"deits_quantized.pth\"\n",
        "\n",
        "quantized_model.cpu()\n",
        "cpu_example_inputs = (torch.randn([1, 3, 224, 224]), ) # batch_size should equal to 1 on inference.\n",
        "quantized_ep = torch.export.export(quantized_model, cpu_example_inputs)\n",
        "torch.export.save(quantized_ep, quantized_model_path)\n",
        "\n",
        "print('Evaluating model...')\n",
        "lab4_cifar100_evaluation(quantized_model_path) # 84.4%"
      ]
    },
    {
      "cell_type": "markdown",
      "metadata": {
        "id": "oV-fiMUcoO1I"
      },
      "source": [
        "# Below are some tools that may be useful in this lab:"
      ]
    },
    {
      "cell_type": "markdown",
      "metadata": {
        "id": "Ou1NYqlNIoXf"
      },
      "source": [
        "## Profiling Models\n",
        "\n",
        "The code below profiles your model, and generates a trace file for you to find out what is going on in your model throughout the execution.\n",
        "\n",
        "The generated trace file will be named *(test_trace_*.json)*, in the same directory as the notebook. To visualize, go to page [chrome://tracing](chrome://tracing) in either Chrome or Edge browser, then upload the trace file."
      ]
    },
    {
      "cell_type": "code",
      "execution_count": 13,
      "metadata": {
        "id": "ha79mAETIoXf"
      },
      "outputs": [],
      "source": [
        "# profile model\n",
        "from torch.profiler import profile, record_function, ProfilerActivity\n",
        "\n",
        "# ## Default way to use profiler\n",
        "# with profile(activities=[ProfilerActivity.CPU, ProfilerActivity.CUDA]) as prof:\n",
        "#     for _ in range(10):\n",
        "#         a = torch.square(torch.randn(10000, 10000).cuda())\n",
        "\n",
        "# prof.export_chrome_trace(\"trace.json\")\n",
        "\n",
        "def torch_profile(model, input_data, device):\n",
        "  ## With warmup and skip\n",
        "  # https://pytorch.org/docs/stable/profiler.html\n",
        "\n",
        "  # Non-default profiler schedule allows user to turn profiler on and off\n",
        "  # on different iterations of the training loop;\n",
        "  # trace_handler is called every time a new trace becomes available\n",
        "  def trace_handler(prof):\n",
        "    print(prof.key_averages().table(sort_by=\"self_cuda_time_total\", row_limit=-1))\n",
        "    prof.export_chrome_trace(\"./test_trace_\" + str(prof.step_num) + \".json\")\n",
        "\n",
        "  with torch.profiler.profile(\n",
        "    activities=[\n",
        "      torch.profiler.ProfilerActivity.CPU,\n",
        "      torch.profiler.ProfilerActivity.CUDA,\n",
        "    ],\n",
        "\n",
        "    # In this example with wait=1, warmup=1, active=2, repeat=1,\n",
        "    # profiler will skip the first step/iteration,\n",
        "    # start warming up on the second, record\n",
        "    # the third and the forth iterations,\n",
        "    # after which the trace will become available\n",
        "    # and on_trace_ready (when set) is called;\n",
        "    # the cycle repeats starting with the next step\n",
        "    schedule=torch.profiler.schedule(wait=1, warmup=1, active=2, repeat=1),\n",
        "    on_trace_ready=trace_handler\n",
        "    # on_trace_ready=torch.profiler.tensorboard_trace_handler('./log')\n",
        "    # used when outputting for tensorboard\n",
        "    ) as p:\n",
        "      for data in input_data:\n",
        "        model(data.to(device))\n",
        "        # send a signal to the profiler that the next iteration has started\n",
        "        p.step()"
      ]
    },
    {
      "cell_type": "code",
      "execution_count": 14,
      "metadata": {
        "id": "VXTFSexrIoXf"
      },
      "outputs": [
        {
          "name": "stderr",
          "output_type": "stream",
          "text": [
            "WARNING:2024-05-15 20:43:36 339847:339847 init.cpp:166] function cbapi->getCuptiStatus() failed with error CUPTI_ERROR_NOT_INITIALIZED (15)\n",
            "WARNING:2024-05-15 20:43:36 339847:339847 init.cpp:167] CUPTI initialization failed - CUDA profiler activities will be missing\n",
            "INFO:2024-05-15 20:43:36 339847:339847 init.cpp:169] If you see CUPTI_ERROR_INSUFFICIENT_PRIVILEGES, refer to https://developer.nvidia.com/nvidia-development-tools-solutions-err-nvgpuctrperm-cupti\n",
            "STAGE:2024-05-15 20:43:38 339847:339847 ActivityProfilerController.cpp:314] Completed Stage: Warm Up\n",
            "STAGE:2024-05-15 20:43:40 339847:339847 ActivityProfilerController.cpp:320] Completed Stage: Collection\n",
            "STAGE:2024-05-15 20:43:40 339847:339847 ActivityProfilerController.cpp:324] Completed Stage: Post Processing\n"
          ]
        },
        {
          "name": "stdout",
          "output_type": "stream",
          "text": [
            "-----------------------------------------------------  ------------  ------------  ------------  ------------  ------------  ------------  \n",
            "                                                 Name    Self CPU %      Self CPU   CPU total %     CPU total  CPU time avg    # of Calls  \n",
            "-----------------------------------------------------  ------------  ------------  ------------  ------------  ------------  ------------  \n",
            "                                        ProfilerStep*         1.62%      36.032ms       100.00%        2.229s        1.114s             2  \n",
            "                                             aten::to         0.40%       8.863ms         7.88%     175.690ms     114.010us          1541  \n",
            "            quantized_decomposed::quantize_per_tensor         1.90%      42.455ms        45.36%        1.011s       5.680ms           178  \n",
            "                                            aten::mul        15.18%     338.388ms        15.46%     344.627ms     720.977us           478  \n",
            "                                       aten::_to_copy         0.40%       8.828ms         7.76%     172.859ms     126.916us          1362  \n",
            "                                  aten::empty_strided         0.22%       4.991ms         0.22%       4.991ms       3.664us          1362  \n",
            "                                          aten::copy_        10.37%     231.138ms        10.37%     231.138ms     163.811us          1411  \n",
            "                                          aten::round        13.61%     303.306ms        13.61%     303.306ms       1.704ms           178  \n",
            "                                            aten::add        11.10%     247.392ms        11.23%     250.384ms       1.233ms           203  \n",
            "                                          aten::clamp         9.44%     210.409ms         9.44%     210.445ms       1.182ms           178  \n",
            "          quantized_decomposed::dequantize_per_tensor         0.77%      17.066ms        21.04%     468.864ms       1.699ms           276  \n",
            "                                            aten::sub         6.86%     152.830ms         6.95%     154.855ms     561.069us           276  \n",
            "                                         aten::conv2d         0.00%      14.000us         0.37%       8.286ms       8.286ms             1  \n",
            "                                    aten::convolution         0.00%      41.000us         0.37%       8.272ms       8.272ms             1  \n",
            "                                   aten::_convolution         0.02%     492.000us         0.37%       8.231ms       8.231ms             1  \n",
            "                             aten::mkldnn_convolution         0.35%       7.704ms         0.35%       7.739ms       7.739ms             1  \n",
            "                                          aten::empty         0.03%     587.000us         0.03%     587.000us       4.696us           125  \n",
            "                                    aten::as_strided_         0.00%       8.000us         0.00%       8.000us       8.000us             1  \n",
            "                                        aten::resize_         0.00%       3.000us         0.00%       3.000us       3.000us             1  \n",
            "                                        aten::flatten         0.00%      16.000us         0.00%      26.000us      26.000us             1  \n",
            "                                           aten::view         0.08%       1.775ms         0.08%       1.775ms      10.380us           171  \n",
            "                                      aten::transpose         0.02%     419.000us         0.03%     621.000us       5.090us           122  \n",
            "                                     aten::as_strided         0.01%     287.000us         0.01%     287.000us       1.287us           223  \n",
            "                                       aten::sym_size         0.00%       2.000us         0.00%       2.000us       2.000us             1  \n",
            "                                         aten::expand         0.01%     187.000us         0.01%     199.000us       3.980us            50  \n",
            "                                            aten::cat         0.02%     346.000us         0.02%     365.000us     365.000us             1  \n",
            "                                         aten::narrow         0.00%      12.000us         0.00%      19.000us       9.500us             2  \n",
            "                                          aten::slice         0.00%      19.000us         0.00%      23.000us       7.667us             3  \n",
            "                                        aten::dropout         0.01%     114.000us         0.01%     114.000us       3.000us            38  \n",
            "                                     aten::layer_norm         0.01%     293.000us         0.65%      14.418ms     576.720us            25  \n",
            "                              aten::native_layer_norm         0.61%      13.678ms         0.63%      14.125ms     565.000us            25  \n",
            "                                         aten::linear         0.07%       1.666ms        25.44%     567.133ms      11.574ms            49  \n",
            "                                        aten::reshape         0.02%     377.000us         0.05%       1.027ms      14.264us            72  \n",
            "                                              aten::t         0.01%     249.000us         0.02%     557.000us      11.367us            49  \n",
            "                                          aten::addmm        22.08%     492.047ms        25.27%     563.318ms      11.496ms            49  \n",
            "                                   aten::resolve_conj         0.00%      32.000us         0.00%      32.000us       0.327us            98  \n",
            "                                        aten::permute         0.01%     144.000us         0.01%     199.000us      16.583us            12  \n",
            "                                         aten::unbind         0.03%     605.000us         0.03%     752.000us      62.667us            12  \n",
            "                                         aten::select         0.01%     156.000us         0.01%     163.000us       4.405us            37  \n",
            "                   aten::scaled_dot_product_attention         0.03%     600.000us         3.08%      68.710ms       5.726ms            12  \n",
            "    aten::_scaled_dot_product_flash_attention_for_cpu         3.04%      67.674ms         3.06%      68.110ms       5.676ms            12  \n",
            "                                           aten::gelu         1.69%      37.661ms         1.69%      37.661ms       3.138ms            12  \n",
            "-----------------------------------------------------  ------------  ------------  ------------  ------------  ------------  ------------  \n",
            "Self CPU time total: 2.229s\n",
            "\n"
          ]
        }
      ],
      "source": [
        "dummy_input_data = [next(iter(test_loader))[0] for _ in range(3)]\n",
        "device = torch.device(\"cpu\")\n",
        "\n",
        "# profile quantized model\n",
        "torch_profile(quantized_model, dummy_input_data, device)"
      ]
    },
    {
      "cell_type": "markdown",
      "metadata": {
        "id": "V_xk1sSXoqsJ"
      },
      "source": [
        "## To obtain specific model layers"
      ]
    },
    {
      "cell_type": "code",
      "execution_count": 15,
      "metadata": {
        "id": "E4BgPWyupMZ1"
      },
      "outputs": [
        {
          "name": "stdout",
          "output_type": "stream",
          "text": [
            "[('blocks.0.attn.qkv', Linear(in_features=384, out_features=1152, bias=True)), ('blocks.0.mlp.fc1', Linear(in_features=384, out_features=1536, bias=True)), ('blocks.0.mlp.fc2', Linear(in_features=1536, out_features=384, bias=True))]\n"
          ]
        }
      ],
      "source": [
        "def match_string(string, match_list, match_prefix=False, match_suffix=False):\n",
        "    if match_prefix:\n",
        "        return any(string.startswith(s) for s in match_list)\n",
        "    elif match_suffix:\n",
        "        return any(string.endswith(s) for s in match_list)\n",
        "    else:\n",
        "        return any(s in string for s in match_list)\n",
        "\n",
        "def get_model_layers(model, match_names=None, match_types=None, prefix=''):\n",
        "    matching_layers = []\n",
        "    for name, module in model.named_modules():\n",
        "        if match_names is None or match_string(name, match_names):\n",
        "            if match_types is None or match_string(type(module).__name__, match_types):\n",
        "                matching_layers.append((f'{prefix}{name}', module))\n",
        "    return matching_layers\n",
        "\n",
        "layer_names = [f'blocks.0.attn.qkv', f'blocks.0.mlp.fc1', f'blocks.0.mlp.fc2']\n",
        "block0_layers = get_model_layers(model, match_names=layer_names, match_types=['Linear'])\n",
        "\n",
        "print(block0_layers)"
      ]
    },
    {
      "cell_type": "markdown",
      "metadata": {
        "id": "NO1-XuLJBkL2"
      },
      "source": [
        "## To capture the output of each layer\n"
      ]
    },
    {
      "cell_type": "code",
      "execution_count": 16,
      "metadata": {
        "id": "j8xEIdQvBsnQ"
      },
      "outputs": [],
      "source": [
        "class HookHandler:\n",
        "    def __init__(self):\n",
        "        self.handlers = []\n",
        "\n",
        "    def __del__(self):\n",
        "        self.remove_hooks()\n",
        "\n",
        "    def _generate_hook(self, apply_func, key, layer_data_dict: dict):\n",
        "        def hook_fn(model, input, output):\n",
        "            nonlocal layer_data_dict\n",
        "            layer_data_dict[key] = apply_func(\n",
        "                output, layer_data_dict.get(key, None))\n",
        "        return hook_fn\n",
        "\n",
        "    def _bind_hooks(self, apply_layers, apply_func, layer_data_dict: dict):\n",
        "        for name, module in apply_layers:\n",
        "            hook_fn = self._generate_hook(apply_func, name, layer_data_dict)\n",
        "            self.handlers.append(module.register_forward_hook(hook_fn))\n",
        "\n",
        "    def create_hooks(self, apply_layers, apply_func, layer_data_dict: dict):\n",
        "        self._bind_hooks(apply_layers, apply_func, layer_data_dict)\n",
        "\n",
        "    def remove_hooks(self):\n",
        "        for handle in self.handlers:\n",
        "            handle.remove()\n",
        "        self.handlers = []\n",
        "\n",
        "def absmax(data, axis=None):\n",
        "    p_data = data.max(axis=axis)\n",
        "    n_data = data.min(axis=axis)\n",
        "    return np.where(abs(p_data) > abs(n_data), p_data, n_data)\n",
        "\n",
        "def get_flat_act_func(new_val: torch.Tensor, _):\n",
        "    return new_val.cpu().detach().numpy().flatten()\n",
        "\n",
        "\n",
        "def get_act_func(new_val: torch.Tensor, _):\n",
        "    return new_val.cpu().detach().numpy()\n",
        "\n",
        "\n",
        "def get_avg_act_func(new_val: torch.Tensor, existing_val):\n",
        "    if existing_val is None:\n",
        "        avg = new_val.cpu().detach().numpy().sum(axis=0) / total_cnt\n",
        "        total_cnt = new_val.shape[0]\n",
        "\n",
        "    else:\n",
        "        total_cnt, avg = existing_val.get(\"total_cnt\"), existing_val.get(\"value\")\n",
        "        avg = (avg * total_cnt + new_val.cpu().detach().numpy().sum(axis=0)) / (total_cnt + new_val.shape[0])\n",
        "        total_cnt += new_val.shape[0]\n",
        "\n",
        "    return {\"total_cnt\": total_cnt, \"value\": avg}\n",
        "\n",
        "def get_absmax_act_func(new_val: torch.Tensor, existing_val):\n",
        "    new_absmax = absmax(new_val.cpu().detach().numpy(), axis=0)\n",
        "    if existing_val is None:\n",
        "        value = new_absmax\n",
        "    else:\n",
        "        value = absmax(np.stack([existing_val, new_absmax], axis=0), axis=0)\n",
        "    return value"
      ]
    },
    {
      "cell_type": "code",
      "execution_count": 17,
      "metadata": {},
      "outputs": [],
      "source": [
        "def decompose_min_difference(n):\n",
        "    \"\"\"\n",
        "    Decomposes a given number 'n' into two numbers with minimal difference.\n",
        "\n",
        "    Args:\n",
        "        n (int): The input number to be decomposed.\n",
        "\n",
        "    Returns:\n",
        "        tuple: A tuple containing two numbers (x, y) such that x * y = n and abs(x - y) is minimized.\n",
        "    \"\"\"\n",
        "\n",
        "    # Check for valid input\n",
        "    if n <= 1:\n",
        "        raise ValueError(\"Input number must be greater than 1\")\n",
        "\n",
        "    # Initialize variables\n",
        "    min_diff = float('inf')\n",
        "    best_x = None\n",
        "    best_y = None\n",
        "\n",
        "    # Iterate over possible values of x\n",
        "    for x in range(2, int(n**0.5) + 1):\n",
        "        if n % x == 0:\n",
        "            y = n // x\n",
        "            diff = abs(x - y)\n",
        "\n",
        "            # Update best solution if current difference is smaller\n",
        "            if diff < min_diff:\n",
        "                min_diff = diff\n",
        "                best_x = x\n",
        "                best_y = y\n",
        "\n",
        "    # Return the best solution\n",
        "    return best_x, best_y"
      ]
    },
    {
      "cell_type": "code",
      "execution_count": 18,
      "metadata": {},
      "outputs": [],
      "source": [
        "def plot_layer_output_dist(layer_outputs):\n",
        "    # save each layer's outputs as a large image for visualization\n",
        "    import matplotlib.pyplot as plt\n",
        "    import os\n",
        "\n",
        "    # create subplots to accommodate all the layers\n",
        "    num_layer_outputs = len(layer_outputs)\n",
        "    print(num_layer_outputs)\n",
        "    plot_num = decompose_min_difference(num_layer_outputs)\n",
        "    fig, axes = plt.subplots(plot_num[0], plot_num[1], figsize=(plot_num[1]*3, plot_num[0]*3))\n",
        "    axes = axes.ravel()\n",
        "    plot_index = 0\n",
        "\n",
        "    # plot the outputs of each layer\n",
        "    for layer_name, layer_output in layer_outputs.items():\n",
        "        # plot histograms for the outputs of the linear layers\n",
        "        axes[plot_index].hist(layer_output.flatten(), bins=100)\n",
        "        axes[plot_index].set_title(layer_name)\n",
        "        plot_index += 1\n",
        "\n",
        "    fig.tight_layout()\n",
        "    fig.subplots_adjust(top=0.925)\n",
        "    plt.savefig(os.path.join('activation.png'))\n",
        "\n",
        "def plot_layer_output_minmax(layer_outputs):\n",
        "    # plot the min and max values of each layer's output using box plot\n",
        "    import matplotlib.pyplot as plt\n",
        "    import os\n",
        "\n",
        "    flat_layer_outputs = {layer_name: layer_output.flatten() for layer_name, layer_output in layer_outputs.items()}\n",
        "    # draw box plot using test input\n",
        "    fig, ax = plt.subplots()\n",
        "    fig.set_size_inches(10, 30)\n",
        "    ax.boxplot(flat_layer_outputs.values(), vert=False, patch_artist=True, showmeans=True)\n",
        "    ax.set_yticklabels(flat_layer_outputs.keys())\n",
        "    plt.savefig(os.path.join('activation_minmax.png'))\n",
        "\n",
        "\n",
        "\n",
        "    \n",
        "    "
      ]
    },
    {
      "cell_type": "code",
      "execution_count": null,
      "metadata": {},
      "outputs": [],
      "source": [
        "# initialize HookHandler and the dictionary to store the outputs\n",
        "mobilenet = torch.load('mobilenetv2_0.963.pth')\n",
        "handler = HookHandler()\n",
        "layer_outputs = {}\n",
        "\n",
        "# get the layers you want to record\n",
        "# layer_names = [f'blocks.0.attn.qkv', f'blocks.0.mlp.fc1', f'blocks.0.mlp.fc2']\n",
        "layer_names = [name for name, _ in mobilenet.named_modules()][1:]\n",
        "print(layer_names)\n",
        "block0_layers = get_model_layers(mobilenet, match_names=layer_names, match_types=['Conv2d', 'BatchNorm2d', 'ReLU6', 'Dropout', 'Linear'])\n",
        "\n",
        "# create hooks for the layers (<layers>, <hook function>, <dictionary to store the outputs>)\n",
        "handler.create_hooks(block0_layers, get_act_func, layer_outputs)\n",
        "\n",
        "# calibrate the model and record the outputs\n",
        "mobilenet.cpu()\n",
        "with torch.autocast(device_type=\"cuda\"):\n",
        "    for i, (image, _) in enumerate(train_loader):\n",
        "        if i >= 128: break\n",
        "        mobilenet(image)\n",
        "\n",
        "# remove the hooks\n",
        "handler.remove_hooks()\n",
        "\n",
        "plot_layer_output_dist(layer_outputs)\n",
        "plot_layer_output_minmax(layer_outputs)"
      ]
    },
    {
      "cell_type": "code",
      "execution_count": null,
      "metadata": {
        "id": "sGw7XZSVB5Xn"
      },
      "outputs": [],
      "source": [
        "# initialize HookHandler and the dictionary to store the outputs\n",
        "handler = HookHandler()\n",
        "layer_outputs = {}\n",
        "\n",
        "# get the layers you want to record\n",
        "# layer_names = [f'blocks.0.attn.qkv', f'blocks.0.mlp.fc1', f'blocks.0.mlp.fc2']\n",
        "layer_names = [name for name, _ in model.named_modules()][1:]\n",
        "block0_layers = get_model_layers(model, match_names=layer_names, match_types=['Linear', 'Dropout', 'LayerNorm', 'GELU'])\n",
        "\n",
        "# create hooks for the layers (<layers>, <hook function>, <dictionary to store the outputs>)\n",
        "handler.create_hooks(block0_layers, get_act_func, layer_outputs)\n",
        "\n",
        "# calibrate the model and record the outputs\n",
        "model.cpu()\n",
        "with torch.autocast(device_type=\"cuda\"):\n",
        "    for i, (image, _) in enumerate(train_loader):\n",
        "        if i >= 128: break\n",
        "        model(image)\n",
        "\n",
        "# remove the hooks\n",
        "handler.remove_hooks()\n",
        "\n",
        "plot_layer_output_dist(layer_outputs)\n",
        "plot_layer_output_minmax(layer_outputs)\n"
      ]
    },
    {
      "cell_type": "markdown",
      "metadata": {},
      "source": [
        "## Model architecture"
      ]
    },
    {
      "cell_type": "code",
      "execution_count": null,
      "metadata": {},
      "outputs": [],
      "source": [
        "print(model)\n",
        "\n",
        "# print number of head and hidden size"
      ]
    },
    {
      "cell_type": "markdown",
      "metadata": {},
      "source": [
        "# Number of parameters in each layer"
      ]
    },
    {
      "cell_type": "code",
      "execution_count": null,
      "metadata": {},
      "outputs": [],
      "source": [
        "import matplotlib.pyplot as plt\n",
        "def plot_num_parameters_distribution(model):\n",
        "    num_parameters = dict()\n",
        "    for name, param in model.named_parameters():\n",
        "        if param.dim() > 1:\n",
        "            num_parameters[name] = param.numel()\n",
        "    fig = plt.figure(figsize=(20, 12))\n",
        "    plt.grid(axis='y')\n",
        "    plt.bar(list(num_parameters.keys()), list(num_parameters.values()))\n",
        "    plt.title('#Parameter Distribution')\n",
        "    plt.ylabel('Number of Parameters')\n",
        "    plt.xticks(rotation=60)\n",
        "    plt.tight_layout()\n",
        "    plt.show()\n",
        "\n",
        "plot_num_parameters_distribution(model)"
      ]
    },
    {
      "cell_type": "markdown",
      "metadata": {},
      "source": [
        "## Weight distribution"
      ]
    },
    {
      "cell_type": "code",
      "execution_count": null,
      "metadata": {},
      "outputs": [],
      "source": [
        "import matplotlib.pyplot as plt\n",
        "def get_quantized_range(bitwidth):\n",
        "    quantized_max = (1 << (bitwidth - 1)) - 1\n",
        "    quantized_min = -(1 << (bitwidth - 1))\n",
        "    return quantized_min, quantized_max\n",
        "\n",
        "def plot_weight_distribution(model, bitwidth=32):\n",
        "    # bins = (1 << bitwidth) if bitwidth <= 8 else 256\n",
        "    if bitwidth <= 8:\n",
        "        qmin, qmax = get_quantized_range(bitwidth)\n",
        "        bins = np.arange(qmin, qmax + 2)\n",
        "        align = 'left'\n",
        "    else:\n",
        "        bins = 256\n",
        "        align = 'mid'\n",
        "    fig, axes = plt.subplots(9,6, figsize=(20, 15))\n",
        "    axes = axes.ravel()\n",
        "    plot_index = 0\n",
        "    for name, param in model.named_parameters():\n",
        "        if param.dim() > 1:\n",
        "            ax = axes[plot_index]\n",
        "            ax.hist(param.detach().view(-1).cpu(), bins=bins, density=True,\n",
        "                    align=align, color = 'blue', alpha = 0.5,\n",
        "                    edgecolor='black' if bitwidth <= 4 else None)\n",
        "            if bitwidth <= 4:\n",
        "                quantized_min, quantized_max = get_quantized_range(bitwidth)\n",
        "                ax.set_xticks(np.arange(start=quantized_min, stop=quantized_max+1))\n",
        "            ax.set_xlabel(name)\n",
        "            ax.set_ylabel('density')\n",
        "            plot_index += 1\n",
        "    fig.suptitle(f'Histogram of Weights (bitwidth={bitwidth} bits)')\n",
        "    fig.tight_layout()\n",
        "    fig.subplots_adjust(top=0.925)\n",
        "    plt.savefig(os.path.join('weight_distribution.png'))\n",
        "\n",
        "plot_weight_distribution(model)\n",
        "plot_weight_distribution(mobilenet)"
      ]
    },
    {
      "cell_type": "markdown",
      "metadata": {
        "id": "bztBdOxJRKTD"
      },
      "source": [
        "## To ignore specific layers for quantization:\n",
        "([xnnpack source code](https://github.com/pytorch/pytorch/blob/main/torch/ao/quantization/quantizer/xnnpack_quantizer.py\\), also you can try messing around with the Observer classes)"
      ]
    },
    {
      "cell_type": "code",
      "execution_count": 9,
      "metadata": {
        "id": "kdAyjLwXQlya"
      },
      "outputs": [
        {
          "name": "stdout",
          "output_type": "stream",
          "text": [
            "['blocks.0.norm1', 'blocks.0.norm2', 'blocks.1.norm1', 'blocks.1.norm2', 'blocks.2.norm1', 'blocks.2.norm2', 'blocks.3.norm1', 'blocks.3.norm2', 'blocks.4.norm1', 'blocks.4.norm2', 'blocks.5.norm1', 'blocks.5.norm2', 'blocks.6.norm1', 'blocks.6.norm2', 'blocks.7.norm1', 'blocks.7.norm2', 'blocks.8.norm1', 'blocks.8.norm2', 'blocks.9.norm1', 'blocks.9.norm2', 'blocks.10.norm1', 'blocks.10.norm2', 'blocks.11.norm1', 'blocks.11.norm2']\n"
          ]
        },
        {
          "data": {
            "text/plain": [
              "<__main__.PartialXNNPACKQuantizer at 0x7f64c0ac6410>"
            ]
          },
          "execution_count": 9,
          "metadata": {},
          "output_type": "execute_result"
        }
      ],
      "source": [
        "# Replace functions XNNPackQuantizer uses for annotation.\n",
        "\n",
        "def get_module_names(name):\n",
        "    names = name.split(\".\")\n",
        "    return [\".\".join(names[i:]) for i in reversed(range(len(names)))]\n",
        "\n",
        "def parse_string(name):\n",
        "    if name.startswith(\"L\"): return name[10:]\n",
        "    split_getattr = name.split(\")\")\n",
        "    ig_left = split_getattr[0].split(\"L['self'].\")[-1].split(\",\")[0]\n",
        "    ig_right = split_getattr[0].split(\", '\")[-1][:-1]\n",
        "    return ig_left + \".\" + str(ig_right) + split_getattr[1]\n",
        "\n",
        "def is_name_in_ignore_list(name, IGNORE_LIST):\n",
        "    return name in IGNORE_LIST\n",
        "\n",
        "def name_not_in_ignore_list(n, IGNORE_LIST) -> bool:\n",
        "    nn_module_stack = n.meta.get(\"nn_module_stack\", {})\n",
        "    names = [n for n, klass in nn_module_stack.values()]\n",
        "    if len(names) == 0:\n",
        "        return True\n",
        "\n",
        "    names = get_module_names(parse_string(names[-1]))\n",
        "    set1 = set(names)\n",
        "    set2 = set(IGNORE_LIST)\n",
        "    # if len(set1.intersection(set2)) == 0:\n",
        "    #     print(\"DEBUG: \", names)\n",
        "    return len(set1.intersection(set2)) == 0\n",
        "\n",
        "def get_module_name_filter(module_name: str, IGNORE_LIST):\n",
        "    def module_name_filter(n) -> bool:\n",
        "        nn_module_stack = n.meta.get(\"nn_module_stack\", {})\n",
        "        names = [n for n, klass in nn_module_stack.values()]\n",
        "        if len(names) == 0:\n",
        "            return False\n",
        "\n",
        "        names = get_module_names(parse_string(names[-1]))\n",
        "        return (module_name in names) and name_not_in_ignore_list(n, IGNORE_LIST)\n",
        "    return module_name_filter\n",
        "\n",
        "\n",
        "def get_module_type_filter(tp, IGNORE_LIST):\n",
        "    def module_type_filter(n) -> bool:\n",
        "        nn_module_stack = n.meta.get(\"nn_module_stack\", {})\n",
        "        types = [t for _, t in nn_module_stack.values()]\n",
        "        return (tp in types) and name_not_in_ignore_list(n, IGNORE_LIST)\n",
        "\n",
        "    return module_type_filter\n",
        "\n",
        "\n",
        "def get_not_module_type_or_name_filter(\n",
        "    tp_list, module_name_list, IGNORE_LIST\n",
        "):\n",
        "    module_type_filters = [get_module_type_filter(tp) for tp in tp_list]\n",
        "    module_name_list_filters = [get_module_name_filter(m) for m in module_name_list]\n",
        "\n",
        "    def not_module_type_or_name_filter(n) -> bool:\n",
        "        return not any(f(n) for f in module_type_filters + module_name_list_filters) and name_not_in_ignore_list(n, IGNORE_LIST)\n",
        "\n",
        "    return not_module_type_or_name_filter\n",
        "\n",
        "class PartialXNNPACKQuantizer(XNNPACKQuantizer): # skips quantizing layers inside the ignore_list\n",
        "    def __init__(self, ignore_list):\n",
        "        super().__init__()\n",
        "        self.ignore_list = ignore_list\n",
        "\n",
        "    def _annotate_for_static_quantization_config(\n",
        "        self, model: torch.fx.GraphModule\n",
        "    ) -> torch.fx.GraphModule:\n",
        "        print(\"annotating for static quantization\")\n",
        "        module_name_list = list(self.module_name_config.keys())\n",
        "        for module_name, config in self.module_name_config.items():\n",
        "            self._annotate_all_static_patterns(\n",
        "                model, config, get_module_name_filter(module_name, self.ignore_list)\n",
        "            )\n",
        "\n",
        "        tp_list = list(self.module_type_config.keys())\n",
        "        for module_type, config in self.module_type_config.items():\n",
        "            self._annotate_all_static_patterns(\n",
        "                model, config, get_module_type_filter(module_type, self.ignore_list)\n",
        "            )\n",
        "\n",
        "        self._annotate_all_static_patterns(\n",
        "            model,\n",
        "            self.global_config,\n",
        "            get_not_module_type_or_name_filter(tp_list, module_name_list, self.ignore_list),\n",
        "        )\n",
        "        return model\n",
        "\n",
        "    def _annotate_for_dynamic_quantization_config(\n",
        "        self, model: torch.fx.GraphModule\n",
        "    ) -> torch.fx.GraphModule:\n",
        "        print(\"annotating for dynamic quantization\")\n",
        "        module_name_list = list(self.module_name_config.keys())\n",
        "        for module_name, config in self.module_name_config.items():\n",
        "            self._annotate_all_dynamic_patterns(\n",
        "                model, config, get_module_name_filter(module_name, self.ignore_list)\n",
        "            )\n",
        "\n",
        "        tp_list = list(self.module_type_config.keys())\n",
        "        for module_type, config in self.module_type_config.items():\n",
        "            self._annotate_all_dynamic_patterns(\n",
        "                model, config, get_module_type_filter(module_type, self.ignore_list)\n",
        "            )\n",
        "\n",
        "        self._annotate_all_dynamic_patterns(\n",
        "            model,\n",
        "            self.global_config,\n",
        "            get_not_module_type_or_name_filter(tp_list, module_name_list, self.ignore_list),\n",
        "        )\n",
        "        return model\n",
        "\n",
        "# quantizer = XNNPACKQuantizer()\n",
        "\n",
        "act_list = [name for name, _ in model.named_modules() if 'act' in name]\n",
        "fc_list = [name for name, _ in model.named_modules() if 'fc' in name]\n",
        "qkv_list = [name for name, _ in model.named_modules() if 'qkv' in name]\n",
        "layernorm_list = [name for name, _ in model.named_modules() if ('norm1' in name) or ('norm2' in name)]\n",
        "layerscale_list = [name for name, _ in model.named_modules() if 'ls' in name]\n",
        "ignore_list = layernorm_list\n",
        "print(ignore_list)\n",
        "quantizer = PartialXNNPACKQuantizer(ignore_list=ignore_list) # replace XNNPACKQuantizer()\n",
        "quantizer.set_global(get_symmetric_quantization_config(is_per_channel=False, is_qat=False))"
      ]
    },
    {
      "cell_type": "code",
      "execution_count": null,
      "metadata": {},
      "outputs": [],
      "source": [
        "model = torch.load('0.9099_deit3_small_patch16_224.pth', map_location='cpu')\n",
        "# evaluate before quantization\n",
        "print('Before quantization:')\n",
        "device = torch.device(\"cuda:0\" if torch.cuda.is_available() else \"cpu\")\n",
        "print_size_of_model(model)\n",
        "evaluate_model(model, test_loader, device) # acc: 90.99%\n",
        "# evaluate_model(model, simple_test_loader, device) # for fast testing purpose, this is not the real accuracy\n"
      ]
    },
    {
      "cell_type": "code",
      "execution_count": 12,
      "metadata": {},
      "outputs": [
        {
          "name": "stdout",
          "output_type": "stream",
          "text": [
            "['blocks.0.mlp.act', 'blocks.1.mlp.act', 'blocks.2.mlp.act', 'blocks.3.mlp.act', 'blocks.4.mlp.act', 'blocks.5.mlp.act', 'blocks.6.mlp.act', 'blocks.7.mlp.act', 'blocks.8.mlp.act', 'blocks.9.mlp.act', 'blocks.10.mlp.act', 'blocks.11.mlp.act']\n",
            "Quantizing model...\n",
            "annotating for static quantization\n",
            "After quantization:\n",
            "Size (MB): 21.938609\n"
          ]
        },
        {
          "name": "stderr",
          "output_type": "stream",
          "text": [
            "100%|██████████| 10000/10000 [04:32<00:00, 36.70it/s]\n"
          ]
        },
        {
          "name": "stdout",
          "output_type": "stream",
          "text": [
            "Accuracy of the model on the test images: 82.47%\n",
            "device:  cuda:0\n",
            "['blocks.0.mlp.fc1', 'blocks.0.mlp.fc2', 'blocks.1.mlp.fc1', 'blocks.1.mlp.fc2', 'blocks.2.mlp.fc1', 'blocks.2.mlp.fc2', 'blocks.3.mlp.fc1', 'blocks.3.mlp.fc2', 'blocks.4.mlp.fc1', 'blocks.4.mlp.fc2', 'blocks.5.mlp.fc1', 'blocks.5.mlp.fc2', 'blocks.6.mlp.fc1', 'blocks.6.mlp.fc2', 'blocks.7.mlp.fc1', 'blocks.7.mlp.fc2', 'blocks.8.mlp.fc1', 'blocks.8.mlp.fc2', 'blocks.9.mlp.fc1', 'blocks.9.mlp.fc2', 'blocks.10.mlp.fc1', 'blocks.10.mlp.fc2', 'blocks.11.mlp.fc1', 'blocks.11.mlp.fc2', 'fc_norm']\n",
            "Quantizing model...\n",
            "annotating for static quantization\n",
            "After quantization:\n",
            "Size (MB): 64.406065\n"
          ]
        },
        {
          "name": "stderr",
          "output_type": "stream",
          "text": [
            "100%|██████████| 10000/10000 [03:28<00:00, 47.87it/s]\n"
          ]
        },
        {
          "name": "stdout",
          "output_type": "stream",
          "text": [
            "Accuracy of the model on the test images: 84.28%\n",
            "device:  cuda:0\n",
            "['blocks.0.attn.qkv', 'blocks.1.attn.qkv', 'blocks.2.attn.qkv', 'blocks.3.attn.qkv', 'blocks.4.attn.qkv', 'blocks.5.attn.qkv', 'blocks.6.attn.qkv', 'blocks.7.attn.qkv', 'blocks.8.attn.qkv', 'blocks.9.attn.qkv', 'blocks.10.attn.qkv', 'blocks.11.attn.qkv']\n",
            "Quantizing model...\n",
            "annotating for static quantization\n",
            "After quantization:\n",
            "Size (MB): 37.863921\n"
          ]
        },
        {
          "name": "stderr",
          "output_type": "stream",
          "text": [
            "100%|██████████| 10000/10000 [03:53<00:00, 42.76it/s]\n"
          ]
        },
        {
          "name": "stdout",
          "output_type": "stream",
          "text": [
            "Accuracy of the model on the test images: 84.02%\n",
            "device:  cuda:0\n",
            "['blocks.0.norm1', 'blocks.0.norm2', 'blocks.1.norm1', 'blocks.1.norm2', 'blocks.2.norm1', 'blocks.2.norm2', 'blocks.3.norm1', 'blocks.3.norm2', 'blocks.4.norm1', 'blocks.4.norm2', 'blocks.5.norm1', 'blocks.5.norm2', 'blocks.6.norm1', 'blocks.6.norm2', 'blocks.7.norm1', 'blocks.7.norm2', 'blocks.8.norm1', 'blocks.8.norm2', 'blocks.9.norm1', 'blocks.9.norm2', 'blocks.10.norm1', 'blocks.10.norm2', 'blocks.11.norm1', 'blocks.11.norm2']\n",
            "Quantizing model...\n",
            "annotating for static quantization\n",
            "After quantization:\n",
            "Size (MB): 21.938609\n"
          ]
        },
        {
          "name": "stderr",
          "output_type": "stream",
          "text": [
            "100%|██████████| 10000/10000 [04:28<00:00, 37.21it/s]\n"
          ]
        },
        {
          "name": "stdout",
          "output_type": "stream",
          "text": [
            "Accuracy of the model on the test images: 81.7%\n",
            "device:  cuda:0\n",
            "['blocks.0.ls1', 'blocks.0.ls2', 'blocks.1.ls1', 'blocks.1.ls2', 'blocks.2.ls1', 'blocks.2.ls2', 'blocks.3.ls1', 'blocks.3.ls2', 'blocks.4.ls1', 'blocks.4.ls2', 'blocks.5.ls1', 'blocks.5.ls2', 'blocks.6.ls1', 'blocks.6.ls2', 'blocks.7.ls1', 'blocks.7.ls2', 'blocks.8.ls1', 'blocks.8.ls2', 'blocks.9.ls1', 'blocks.9.ls2', 'blocks.10.ls1', 'blocks.10.ls2', 'blocks.11.ls1', 'blocks.11.ls2']\n",
            "Quantizing model...\n",
            "annotating for static quantization\n",
            "After quantization:\n",
            "Size (MB): 21.966257\n"
          ]
        },
        {
          "name": "stderr",
          "output_type": "stream",
          "text": [
            "100%|██████████| 10000/10000 [03:51<00:00, 43.18it/s]"
          ]
        },
        {
          "name": "stdout",
          "output_type": "stream",
          "text": [
            "Accuracy of the model on the test images: 81.94%\n",
            "device:  cuda:0\n",
            "{'act_list': 21.938609, 'fc_list': 64.406065, 'qkv_list': 37.863921, 'layernorm_list': 21.938609, 'layerscale_list': 21.966257}\n",
            "{'act_list': 82.47, 'fc_list': 84.28, 'qkv_list': 84.02, 'layernorm_list': 81.7, 'layerscale_list': 81.94}\n"
          ]
        },
        {
          "name": "stderr",
          "output_type": "stream",
          "text": [
            "\n"
          ]
        }
      ],
      "source": [
        "def quantize_model(model, train_loader, quantizer):\n",
        "    # quantize model\n",
        "    print('Quantizing model...')\n",
        "    model.cpu()\n",
        "    quantized_model = quantize_ptq_model(model, train_loader, per_channel=False, quantizer=quantizer)\n",
        "    # quantized_model = quantize_ptq_model(model, train_loader, per_channel=False)\n",
        "    torch.ao.quantization.move_exported_model_to_eval(quantized_model)\n",
        "    return quantized_model\n",
        "\n",
        "\n",
        "# TBA: proj\n",
        "\n",
        "act_list = [name for name, _ in model.named_modules() if 'act' in name]\n",
        "fc_list = [name for name, _ in model.named_modules() if 'fc' in name]\n",
        "qkv_list = [name for name, _ in model.named_modules() if 'qkv' in name]\n",
        "layernorm_list = [name for name, _ in model.named_modules() if ('norm1' in name) or ('norm2' in name)]\n",
        "layerscale_list = [name for name, _ in model.named_modules() if 'ls' in name]\n",
        "\n",
        "lists = {\n",
        "    \"act_list\": act_list,\n",
        "    \"fc_list\": fc_list,\n",
        "    \"qkv_list\": qkv_list,\n",
        "    \"layernorm_list\": layernorm_list,\n",
        "    \"layerscale_list\": layerscale_list\n",
        "}\n",
        "\n",
        "list_size = {}\n",
        "list_acc = {}\n",
        "\n",
        "for name, lis in lists.items():\n",
        "    ignore_list = lis\n",
        "    print(ignore_list)\n",
        "    quantizer = PartialXNNPACKQuantizer(ignore_list=ignore_list) # replace XNNPACKQuantizer()\n",
        "    quantizer.set_global(get_symmetric_quantization_config(is_per_channel=False, is_qat=False))\n",
        "    quantized_model = quantize_model(model, train_loader, quantizer)\n",
        "\n",
        "    \n",
        "    # after quantization\n",
        "    print('After quantization:')\n",
        "    size = print_size_of_model(quantized_model)\n",
        "    acc = evaluate_model(quantized_model, test_loader, device) # acc: 82.51%\n",
        "    print(\"device: \", device)\n",
        "    # evaluate_model(quantized_model, simple_test_loader, device) # for fast testing purpose, this is not the real accuracy\n",
        "\n",
        "    list_size[name] = size\n",
        "    list_acc[name] = acc\n",
        "\n",
        "print(list_size)\n",
        "print(list_acc)\n"
      ]
    },
    {
      "cell_type": "code",
      "execution_count": null,
      "metadata": {},
      "outputs": [],
      "source": [
        "quantized_model_path = \"deits_quantized.pth\"\n",
        "quantized_model.cpu()\n",
        "\n",
        "cpu_example_inputs = (next(iter(train_loader))[0], )\n",
        "quantized_ep = torch.export.export(quantized_model, cpu_example_inputs)\n",
        "torch.export.save(quantized_ep, quantized_model_path)"
      ]
    },
    {
      "cell_type": "code",
      "execution_count": null,
      "metadata": {},
      "outputs": [
        {
          "name": "stderr",
          "output_type": "stream",
          "text": [
            "100%|██████████| 256/256 [00:14<00:00, 17.92it/s]"
          ]
        },
        {
          "name": "stdout",
          "output_type": "stream",
          "text": [
            "Accuracy of the model on the test images: 85.546875%\n"
          ]
        },
        {
          "name": "stderr",
          "output_type": "stream",
          "text": [
            "\n"
          ]
        }
      ],
      "source": [
        "loaded_quantized_ep = torch.export.load(quantized_model_path)\n",
        "loaded_quantized_model = loaded_quantized_ep.module()\n",
        "loaded_quantized_model.cpu()\n",
        "device = torch.device(\"cpu\")\n",
        "# acc = evaluate_model(loaded_quantized_model, test_loader, device)\n",
        "acc = evaluate_model(loaded_quantized_model, simple_test_loader, device) # for fast testing purpose, this is not the real accuracy"
      ]
    }
  ],
  "metadata": {
    "accelerator": "GPU",
    "colab": {
      "collapsed_sections": [
        "Ou1NYqlNIoXf",
        "V_xk1sSXoqsJ",
        "NO1-XuLJBkL2",
        "bztBdOxJRKTD"
      ],
      "gpuType": "T4",
      "provenance": []
    },
    "kernelspec": {
      "display_name": "Python 3",
      "name": "python3"
    },
    "language_info": {
      "codemirror_mode": {
        "name": "ipython",
        "version": 3
      },
      "file_extension": ".py",
      "mimetype": "text/x-python",
      "name": "python",
      "nbconvert_exporter": "python",
      "pygments_lexer": "ipython3",
      "version": "3.10.14"
    }
  },
  "nbformat": 4,
  "nbformat_minor": 0
}
